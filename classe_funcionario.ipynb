{
 "cells": [
  {
   "cell_type": "markdown",
   "metadata": {},
   "source": [
    "## Classe Funcionário:\n",
    "#### Implemente a classe funcionário. Um empregado tem um nome (string) e um salário (double). Escreva um construtor que receba nome e salário, com métodos que devolvam ambos.\n",
    "#### Adicione o método aumentarSalario(porcentagemDeAumento) que aumente o salário do funcionário numa porcentagem definida anteriormente."
   ]
  },
  {
   "cell_type": "code",
   "execution_count": 66,
   "metadata": {},
   "outputs": [],
   "source": [
    "# Instanciamento da classe mãe de funcionários:\n",
    "\n",
    "class Funcionario():\n",
    "    def __init__(self, nome, cargo):\n",
    "        self.nome = nome\n",
    "        self.cargo = cargo\n",
    "        self.__salario = 4500\n",
    "        self.nivelHierarquico = None\n",
    "\n",
    "    @property\n",
    "    def salario(self):\n",
    "        return self.__salario  \n",
    "    @salario.setter\n",
    "    def salario(self):\n",
    "        raise ValueError('Comando Inválido! Não é possível mudar o salário do funcionário desta forma.')\n",
    "\n",
    "    def verNome(self):\n",
    "        return self.nome\n",
    "    def verSalario(self):\n",
    "        return self.salario\n",
    "    def aumentarSalario(self, porcentagem):\n",
    "        self.__salario += self.__salario*(porcentagem/100)\n",
    "\n",
    "class boss(Funcionario):\n",
    "    def __init__(self, nome, cargo, nivelHierarquia):\n",
    "        super().__init__(nome, cargo)\n",
    "        self.nivelHierarquia = nivelHierarquia\n",
    "        self.__salario = 12.500\n",
    "    def mandar(self, comando):\n",
    "        print(f'Faça o seguinte comando: {comando}')\n",
    "\n"
   ]
  },
  {
   "cell_type": "code",
   "execution_count": 75,
   "metadata": {},
   "outputs": [
    {
     "name": "stdout",
     "output_type": "stream",
     "text": [
      "Nome: Jorge Vilas Boas\n",
      "Cargo: Analista de Dados\n",
      "Salário Atual: R$5175.00\n",
      "Nível Hierárquico: Máxima\n"
     ]
    }
   ],
   "source": [
    "# Instanciamento do terceiro objeto funcionário: Utilizando o princípio da ASSOCIAÇÃO\n",
    "\n",
    "funcionario03 = Funcionario('Jorge Vilas Boas', 'Analista de Dados')\n",
    "funcionario03.aumentarSalario(15)\n",
    "\n",
    "funcionario03.nivelHierarquico = funcionario02.nivelHierarquia\n",
    "\n",
    "print(f'Nome: {funcionario03.nome}\\nCargo: {funcionario03.cargo}\\nSalário Atual: R${funcionario03.salario:.2f}\\nNível Hierárquico: {funcionario03.nivelHierarquico}')"
   ]
  },
  {
   "cell_type": "code",
   "execution_count": 63,
   "metadata": {},
   "outputs": [
    {
     "name": "stdout",
     "output_type": "stream",
     "text": [
      "Funcionário: Roberto de Alcantara Chaves\n",
      "Cargo: Engenheiro de Dados Jr\n",
      "Salário Atual: R$5062.50\n"
     ]
    }
   ],
   "source": [
    "# Instanciamento do primeiro objeto funcionário:\n",
    "\n",
    "funcionario01 = Funcionario('Roberto de Alcantara Chaves', 'Engenheiro de Dados Jr')\n",
    "\n",
    "funcionario01.aumentarSalario(12.5)\n",
    "\n",
    "print(f'Funcionário: {funcionario01.nome}\\nCargo: {funcionario01.cargo}\\nSalário Atual: R${funcionario01.salario:.2f}')"
   ]
  },
  {
   "cell_type": "code",
   "execution_count": 68,
   "metadata": {},
   "outputs": [
    {
     "name": "stdout",
     "output_type": "stream",
     "text": [
      "Nome: Bruno Drumond Vilela\n",
      "Cargo: CEO\n",
      "Salário Atual: R$11250.00\n",
      "Nível Hierárquico: Máxima\n",
      "Faça o seguinte comando: Crie uma VM para o cliente\n"
     ]
    }
   ],
   "source": [
    "# Instanciamento do segundo objeto funcionário: Utilizando o princípio de HERANÇA \n",
    "\n",
    "funcionario02 = boss('Bruno Drumond Vilela', 'CEO', 'Máxima')\n",
    "funcionario02.aumentarSalario(150)\n",
    "\n",
    "print(f'Nome: {funcionario02.nome}\\nCargo: {funcionario02.cargo}\\nSalário Atual: R${funcionario02.salario:.2f}\\nNível Hierárquico: {funcionario02.nivelHierarquia}')\n",
    "funcionario02.mandar('Crie uma VM para o cliente')"
   ]
  }
 ],
 "metadata": {
  "interpreter": {
   "hash": "f79e04e549d72e96c4fa9edf3b3a4d8bcc8ad43ae671365b37c194f89344cae7"
  },
  "kernelspec": {
   "display_name": "Python 3.9.2 64-bit",
   "language": "python",
   "name": "python3"
  },
  "language_info": {
   "codemirror_mode": {
    "name": "ipython",
    "version": 3
   },
   "file_extension": ".py",
   "mimetype": "text/x-python",
   "name": "python",
   "nbconvert_exporter": "python",
   "pygments_lexer": "ipython3",
   "version": "3.9.2"
  },
  "orig_nbformat": 4
 },
 "nbformat": 4,
 "nbformat_minor": 2
}
