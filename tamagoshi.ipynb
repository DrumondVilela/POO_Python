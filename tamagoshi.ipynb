{
 "cells": [
  {
   "cell_type": "markdown",
   "metadata": {},
   "source": [
    "## 07) Classe Bichinho Virtual:Crie uma classe que modele um Tamagoshi (Bichinho Eletrônico)\n",
    "\n",
    "- Atributos:  Nome,  Fome,  Saúde  e  Idade\n",
    "\n",
    "- Métodos:  Alterar  Nome,  Fome,  Saúde  e  Idade;  Retornar  Nome,  Fome,  Saúde  e  Idade."
   ]
  },
  {
   "cell_type": "markdown",
   "metadata": {},
   "source": [
    "- Obs:  Existe  mais  uma  informação  que devemos levar em consideração, o Humor do nosso tamagoshi, este humor é uma combinação entre os atributos Fome  e Saúde, ou seja, um campo calculado, então não devemos criar um atributo para armazenar esta informação por que ela pode ser calculada a qualquer momento."
   ]
  },
  {
   "cell_type": "code",
   "execution_count": 1,
   "metadata": {},
   "outputs": [],
   "source": [
    "# Criação da classe:\n",
    "class Tamagoshi:\n",
    "\n",
    "    # Atributos:\n",
    "    def __init__(self, Nome, Fome, Saude, Idade):\n",
    "        self.Nome = Nome\n",
    "        self.Fome = Fome\n",
    "        self.Saude = Saude\n",
    "        self.Idade = Idade\n",
    "\n",
    "    # Métodos:\n",
    "    def Retornar(self):\n",
    "        print(f'Nome: {self.Nome}\\nFome atual: {self.Fome}\\nSaúde atual: {self.Saude}\\nIdade atual: {self.Idade}')\n",
    "\n",
    "    def AlterarNome(self):\n",
    "        NovoNome = input('Digite o meu novo nome: ')\n",
    "        self.Nome = NovoNome\n",
    "\n",
    "    def Fome(self):\n",
    "        print(f'Seu amiguinho {self.Nome} está com fome! Tente alimentá-lo.')\n",
    "\n",
    "    def Alimentar(self):\n",
    "        print('Você alimentou seu amiguinho!')\n",
    "        self.Fome += 30\n",
    "\n",
    "    def Saudavel(self):\n",
    "        print(f'Saúde atual: {self.Saude}%')\n",
    "\n",
    "    def Curar(self):\n",
    "        self.Saude += 30\n",
    "        print(f'Saúde Atual: {self.Saude}%')\n",
    "        \n",
    "    def Envelhecer(self):\n",
    "        print(f'Idade atual: {self.Idade+1}')"
   ]
  },
  {
   "cell_type": "code",
   "execution_count": 2,
   "metadata": {},
   "outputs": [],
   "source": [
    "# Cria a função de saudação do programa:\n",
    "def Saudacao():\n",
    "    print('='*50)\n",
    "    print('-'*12+'Bem vindo(a) ao Tamagoshi!'+'-'*12)"
   ]
  },
  {
   "cell_type": "code",
   "execution_count": 3,
   "metadata": {},
   "outputs": [],
   "source": [
    "# Cria a função que irá gerar as opções visuais para o usuário:\n",
    "def EscolhasUsuario():\n",
    "    print('''Digite o seu próximo passo:\n",
    "[1] - Alimentar seu amiguinho\n",
    "[2] - Curar seu amiguinho \n",
    "[3] - Ver status\n",
    "[4] - Mudar meu nome\n",
    "[5] - Desligar\n",
    "''')"
   ]
  },
  {
   "cell_type": "code",
   "execution_count": 4,
   "metadata": {},
   "outputs": [
    {
     "name": "stdout",
     "output_type": "stream",
     "text": [
      "==================================================\n",
      "------------Bem vindo(a) ao Tamagoshi!------------\n",
      "Nome: Akira\n",
      "Fome atual: 50\n",
      "Saúde atual: 50\n",
      "Idade atual: 0\n",
      "--------------------------------------------------\n",
      "Digite o seu próximo passo:\n",
      "[1] - Alimentar seu amiguinho\n",
      "[2] - Curar seu amiguinho \n",
      "[3] - Ver status\n",
      "[4] - Mudar meu nome\n",
      "[5] - Desligar\n",
      "\n",
      "Então tchau!😠\n"
     ]
    }
   ],
   "source": [
    "Saudacao()\n",
    "\n",
    "# Atribuição do nome do bichinho:\n",
    "NomeAmiguinho = input('Digite o nome do seu amiguinho: ')\n",
    "\n",
    "# Instanciamento do bichinho:\n",
    "amiguinho = Tamagoshi(NomeAmiguinho,50,50, 0)\n",
    "amiguinho.Retornar()\n",
    "print('-'*50)\n",
    "EscolhasUsuario()\n",
    "\n",
    "# Laço para garantir a escolha do usuário:\n",
    "while True:\n",
    "    try:\n",
    "        escolha = int(input('Sua escolha: '))\n",
    "        break\n",
    "    except:\n",
    "        print('[VALOR INVÁLIDO]')\n",
    "        continue\n",
    "\n",
    "# Verificação da escolha do usuário:\n",
    "if escolha == 1:\n",
    "    amiguinho.Alimentar()\n",
    "elif escolha == 2:\n",
    "    amiguinho.Curar()\n",
    "elif escolha == 3:\n",
    "    amiguinho.Retornar()\n",
    "elif escolha == 4:\n",
    "    amiguinho.AlterarNome()\n",
    "elif escolha == 5:\n",
    "    while True:\n",
    "        try:\n",
    "            certeza = input('Tem certeza que quer me deixar ? 🥺')\n",
    "            break\n",
    "        except:\n",
    "            print('[ERRO]')\n",
    "            continue\n",
    "    if certeza.upper().strip() == 'S':\n",
    "        print('Então tchau!😠')\n",
    "        exit()\n"
   ]
  }
 ],
 "metadata": {
  "interpreter": {
   "hash": "f79e04e549d72e96c4fa9edf3b3a4d8bcc8ad43ae671365b37c194f89344cae7"
  },
  "kernelspec": {
   "display_name": "Python 3.9.2 64-bit",
   "language": "python",
   "name": "python3"
  },
  "language_info": {
   "codemirror_mode": {
    "name": "ipython",
    "version": 3
   },
   "file_extension": ".py",
   "mimetype": "text/x-python",
   "name": "python",
   "nbconvert_exporter": "python",
   "pygments_lexer": "ipython3",
   "version": "3.9.2"
  },
  "orig_nbformat": 4
 },
 "nbformat": 4,
 "nbformat_minor": 2
}
